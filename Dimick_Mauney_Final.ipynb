{
  "cells": [
    {
      "cell_type": "markdown",
      "metadata": {
        "id": "view-in-github",
        "colab_type": "text"
      },
      "source": [
        "<a href=\"https://colab.research.google.com/github/ajmauney/movie_analysis/blob/main/Dimick_Mauney_Final.ipynb\" target=\"_parent\"><img src=\"https://colab.research.google.com/assets/colab-badge.svg\" alt=\"Open In Colab\"/></a>"
      ]
    },
    {
      "cell_type": "code",
      "execution_count": null,
      "metadata": {
        "colab": {
          "base_uri": "https://localhost:8080/"
        },
        "id": "O9x8TOZv_V_z",
        "outputId": "81f4e8a4-faf8-477d-ca1c-2f67dc575ee4"
      },
      "outputs": [
        {
          "output_type": "stream",
          "name": "stdout",
          "text": [
            "\r0% [Working]\r            \rHit:1 https://developer.download.nvidia.com/compute/cuda/repos/ubuntu1804/x86_64  InRelease\n",
            "\r0% [Waiting for headers] [Connecting to security.ubuntu.com] [Connected to clou\r0% [1 InRelease gpgv 1,581 B] [Waiting for headers] [Connecting to security.ubu\r                                                                               \rHit:2 http://archive.ubuntu.com/ubuntu bionic InRelease\n",
            "\r                                                                               \rGet:3 https://cloud.r-project.org/bin/linux/ubuntu bionic-cran40/ InRelease [3,626 B]\n",
            "Ign:4 https://developer.download.nvidia.com/compute/machine-learning/repos/ubuntu1804/x86_64  InRelease\n",
            "Get:5 http://archive.ubuntu.com/ubuntu bionic-updates InRelease [88.7 kB]\n",
            "Hit:6 https://developer.download.nvidia.com/compute/machine-learning/repos/ubuntu1804/x86_64  Release\n",
            "Hit:7 http://ppa.launchpad.net/c2d4u.team/c2d4u4.0+/ubuntu bionic InRelease\n",
            "Get:8 http://archive.ubuntu.com/ubuntu bionic-backports InRelease [74.6 kB]\n",
            "Get:9 http://security.ubuntu.com/ubuntu bionic-security InRelease [88.7 kB]\n",
            "Hit:10 http://ppa.launchpad.net/cran/libgit2/ubuntu bionic InRelease\n",
            "Hit:11 http://ppa.launchpad.net/deadsnakes/ppa/ubuntu bionic InRelease\n",
            "Hit:13 http://ppa.launchpad.net/graphics-drivers/ppa/ubuntu bionic InRelease\n",
            "Get:14 http://archive.ubuntu.com/ubuntu bionic-updates/universe amd64 Packages [2,277 kB]\n",
            "Get:15 http://archive.ubuntu.com/ubuntu bionic-updates/main amd64 Packages [3,195 kB]\n",
            "Fetched 5,727 kB in 2s (2,645 kB/s)\n",
            "Reading package lists... Done\n",
            "Reading package lists... Done\n",
            "Building dependency tree       \n",
            "Reading state information... Done\n",
            "chromium-chromedriver is already the newest version (100.0.4896.127-0ubuntu0.18.04.1).\n",
            "The following packages were automatically installed and are no longer required:\n",
            "  libnvidia-common-460 nsight-compute-2020.2.0\n",
            "Use 'apt autoremove' to remove them.\n",
            "0 upgraded, 0 newly installed, 0 to remove and 66 not upgraded.\n",
            "Requirement already satisfied: selenium in /usr/local/lib/python3.7/dist-packages (4.1.5)\n",
            "Requirement already satisfied: trio-websocket~=0.9 in /usr/local/lib/python3.7/dist-packages (from selenium) (0.9.2)\n",
            "Requirement already satisfied: urllib3[secure,socks]~=1.26 in /usr/local/lib/python3.7/dist-packages (from selenium) (1.26.9)\n",
            "Requirement already satisfied: trio~=0.17 in /usr/local/lib/python3.7/dist-packages (from selenium) (0.20.0)\n",
            "Requirement already satisfied: sortedcontainers in /usr/local/lib/python3.7/dist-packages (from trio~=0.17->selenium) (2.4.0)\n",
            "Requirement already satisfied: sniffio in /usr/local/lib/python3.7/dist-packages (from trio~=0.17->selenium) (1.2.0)\n",
            "Requirement already satisfied: outcome in /usr/local/lib/python3.7/dist-packages (from trio~=0.17->selenium) (1.1.0)\n",
            "Requirement already satisfied: attrs>=19.2.0 in /usr/local/lib/python3.7/dist-packages (from trio~=0.17->selenium) (21.4.0)\n",
            "Requirement already satisfied: idna in /usr/local/lib/python3.7/dist-packages (from trio~=0.17->selenium) (2.10)\n",
            "Requirement already satisfied: async-generator>=1.9 in /usr/local/lib/python3.7/dist-packages (from trio~=0.17->selenium) (1.10)\n",
            "Requirement already satisfied: wsproto>=0.14 in /usr/local/lib/python3.7/dist-packages (from trio-websocket~=0.9->selenium) (1.1.0)\n",
            "Requirement already satisfied: PySocks!=1.5.7,<2.0,>=1.5.6 in /usr/local/lib/python3.7/dist-packages (from urllib3[secure,socks]~=1.26->selenium) (1.7.1)\n",
            "Requirement already satisfied: pyOpenSSL>=0.14 in /usr/local/lib/python3.7/dist-packages (from urllib3[secure,socks]~=1.26->selenium) (22.0.0)\n",
            "Requirement already satisfied: certifi in /usr/local/lib/python3.7/dist-packages (from urllib3[secure,socks]~=1.26->selenium) (2021.10.8)\n",
            "Requirement already satisfied: cryptography>=1.3.4 in /usr/local/lib/python3.7/dist-packages (from urllib3[secure,socks]~=1.26->selenium) (37.0.2)\n",
            "Requirement already satisfied: cffi>=1.12 in /usr/local/lib/python3.7/dist-packages (from cryptography>=1.3.4->urllib3[secure,socks]~=1.26->selenium) (1.15.0)\n",
            "Requirement already satisfied: pycparser in /usr/local/lib/python3.7/dist-packages (from cffi>=1.12->cryptography>=1.3.4->urllib3[secure,socks]~=1.26->selenium) (2.21)\n",
            "Requirement already satisfied: h11<1,>=0.9.0 in /usr/local/lib/python3.7/dist-packages (from wsproto>=0.14->trio-websocket~=0.9->selenium) (0.13.0)\n",
            "Requirement already satisfied: typing-extensions in /usr/local/lib/python3.7/dist-packages (from h11<1,>=0.9.0->wsproto>=0.14->trio-websocket~=0.9->selenium) (4.2.0)\n",
            "[nltk_data] Downloading package punkt to /root/nltk_data...\n",
            "[nltk_data]   Package punkt is already up-to-date!\n"
          ]
        }
      ],
      "source": [
        "!apt-get update\n",
        "!apt install chromium-chromedriver\n",
        "!pip install selenium\n",
        "from textblob import TextBlob\n",
        "import nltk\n",
        "nltk.download('punkt')\n",
        "import requests\n",
        "import html5lib\n",
        "import bs4\n",
        "import pandas as pd\n",
        "from bs4 import BeautifulSoup\n",
        "import selenium\n",
        "from selenium import webdriver\n",
        "from selenium.webdriver.common.by import By"
      ]
    },
    {
      "cell_type": "markdown",
      "source": [
        "#Project Report 1\n",
        "Today we wrote a class to perform sentiment analysis on the text that we give it and also started to figure out the web scraping.  All we have to do left is finish web scraping then train and fit our model in order to predict reviews."
      ],
      "metadata": {
        "id": "41ZwviPwpYZZ"
      }
    },
    {
      "cell_type": "code",
      "execution_count": null,
      "metadata": {
        "id": "PWSJOWw6_g1X"
      },
      "outputs": [],
      "source": [
        "class Movie_Review:\n",
        "    def __init__(self, text):\n",
        "        self.blob = TextBlob(text)\n",
        "        self.polarity = self.polarity_score()\n",
        "        self.num_sentences = self.count_sentences()\n",
        "        self.num_words = self.count_words()\n",
        "        self.sentence_polarity = self.calculate_sentence_polarity()\n",
        "        self.word_polarity = self.calculate_word_polarity()\n",
        "        self.word_frequency = self.calculate_word_frequency()\n",
        "        \n",
        "    def polarity_score(self):\n",
        "        return self.blob.sentiment.polarity\n",
        "    \n",
        "    def count_sentences(self):\n",
        "        return len(self.blob.sentences)\n",
        "    \n",
        "    def count_words(self):\n",
        "        return len(self.blob.words)\n",
        "    \n",
        "    def calculate_sentence_polarity(self):\n",
        "        sentence_polarity = {}\n",
        "        sentences = self.blob.sentences\n",
        "        \n",
        "        for sentence in sentences:\n",
        "            key = str(sentence)\n",
        "            value = sentence.sentiment.polarity\n",
        "            sentence_polarity[key] = value\n",
        "        return sentence_polarity\n",
        "    \n",
        "    def calculate_word_polarity(self):\n",
        "        word_polarity = {}\n",
        "        words = self.blob.words\n",
        "        \n",
        "        for word in words:\n",
        "            key = word\n",
        "            value = TextBlob(word).sentiment.polarity\n",
        "            word_polarity[key] = value\n",
        "        return word_polarity\n",
        "    \n",
        "    def calculate_word_frequency(self):\n",
        "        frequency = {}\n",
        "        words = self.blob.words\n",
        "        \n",
        "        for word in words:\n",
        "            lowercase = word.lower()\n",
        "            if lowercase not in frequency:\n",
        "                frequency[lowercase] = 1\n",
        "            else:\n",
        "                frequency[lowercase] = frequency.get(lowercase) + 1\n",
        "        return frequency\n",
        "    def test(self):\n",
        "      return {'Review': {self.blob},\n",
        "              'Polarity': {self.polarity},\n",
        "              'Number of sentences': {self.num_sentences},\n",
        "              'Number of words': {self.num_words},\n",
        "              'Sentences and their polarity': {self.sentence_polarity},\n",
        "              'Words and their polarity': {self.word_polarity},\n",
        "              'Frequency of words': {self.word_frequency}\n",
        "              }\n",
        "    \n",
        "    def __str__(self):\n",
        "        return {'Review': {self.blob},\n",
        "                'Polarity': {self.polarity},\n",
        "                'Number of sentences': {self.num_sentences},\n",
        "                'Number of words': {self.num_words},\n",
        "                'Sentences and their polarity': {self.sentence_polarity},\n",
        "                'Words and their polarity': {self.word_polarity},\n",
        "                'Frequency of words': {self.word_frequency}\n",
        "                }"
      ]
    },
    {
      "cell_type": "code",
      "execution_count": null,
      "metadata": {
        "id": "ctqB6H0Rwsmn"
      },
      "outputs": [],
      "source": [
        "# def get_rating(score):\n",
        "#   # polarity score can be between -1 to 1\n",
        "#   if score >= -1 and score < -0.8:\n",
        "#     return 1\n",
        "#   if score >= -0.8 and score < -0.6:\n",
        "#     return 2\n",
        "#   if score >= -0.6 and score < -.4:\n",
        "#     return 3\n",
        "#   if score >= -.4 and score < -.2:\n",
        "#     return 4\n",
        "#   if score >= -.2 and score < 0:\n",
        "#     return 5\n",
        "#   if score >= 0 and score < .2:\n",
        "#     return 6\n",
        "#   if score >= .2 and score < .4:\n",
        "#     return 7\n",
        "#   if score >= .4 and score < .6:\n",
        "#     return 8\n",
        "#   if score >= .6 and score < .8:\n",
        "#     return 9\n",
        "#   if score >= .8:\n",
        "#     return 10"
      ]
    },
    {
      "cell_type": "code",
      "execution_count": null,
      "metadata": {
        "colab": {
          "base_uri": "https://localhost:8080/",
          "height": 573
        },
        "id": "YkOAhgx2AICI",
        "outputId": "66c23ae8-1426-4a7e-fee0-1609b2b1e313"
      },
      "outputs": [
        {
          "output_type": "display_data",
          "data": {
            "text/plain": [
              "<Figure size 432x288 with 1 Axes>"
            ],
            "image/png": "[encoded data removed]"
          },
          "metadata": {
            "needs_background": "light"
          }
        },
        {
          "output_type": "display_data",
          "data": {
            "text/plain": [
              "<Figure size 432x288 with 1 Axes>"
            ],
            "image/png": "[encoded data removed]"
          },
          "metadata": {
            "needs_background": "light"
          }
        }
      ],
      "source": [
        "import matplotlib.pyplot as plt\n",
        "\n",
        "negative_words = ['epic','funny','cool','fun','exciting','fine','amazing','good','great','beautiful']\n",
        "polarities = []\n",
        "\n",
        "for word in negative_words:\n",
        "  movie_class = Movie_Review(word)\n",
        "  pol = movie_class.polarity_score()\n",
        "  polarities.append(round(pol,1))\n",
        "\n",
        "plt.barh(negative_words,polarities,color='green')\n",
        "plt.title('Positive Words')\n",
        "plt.xlabel('Polarity')\n",
        "plt.ylabel('Words')\n",
        "plt.show()\n",
        "\n",
        "negative_words = ['dull','slow','poor','sad','disappointing','unpleasant','bad','atrocious','boring','awful']\n",
        "polarities = []\n",
        "\n",
        "for word in negative_words:\n",
        "  movie_class = Movie_Review(word)\n",
        "  pol = movie_class.polarity_score()\n",
        "  polarities.append(round(pol,1))\n",
        "\n",
        "plt.barh(negative_words,polarities,color='red')\n",
        "plt.title('Negative Words')\n",
        "plt.xlabel('Polarity')\n",
        "plt.ylabel('Words')\n",
        "plt.show()"
      ]
    },
    {
      "cell_type": "code",
      "source": [
        "movie_class = Movie_Review(\"Loved every second of it! Excellent performances! \")\n",
        "pol = movie_class.polarity_score()\n",
        "pol"
      ],
      "metadata": {
        "colab": {
          "base_uri": "https://localhost:8080/"
        },
        "id": "dQ8OpRd2WnJ3",
        "outputId": "8235bc71-9cfb-4d8d-ceaa-f111a91704a9"
      },
      "execution_count": null,
      "outputs": [
        {
          "output_type": "execute_result",
          "data": {
            "text/plain": [
              "0.5666666666666667"
            ]
          },
          "metadata": {},
          "execution_count": 157
        }
      ]
    },
    {
      "cell_type": "markdown",
      "source": [
        "#Project Report 2\n",
        "Today we worked more on web scraping and spent most of the time trying to automatically click the 'load more reviews' button on the web page so we could access more reviews at once. To do this we imported selenium and chrome driver to click the load more button for us."
      ],
      "metadata": {
        "id": "HoxVhrm-pfbe"
      }
    },
    {
      "cell_type": "code",
      "execution_count": null,
      "metadata": {
        "id": "wbKtXn6p2w-A"
      },
      "outputs": [],
      "source": [
        "#https://hungpham89.medium.com/a-beginner-guide-for-scraping-data-from-imdb-for-user-reviews-using-selenium-and-beautifulsoup-c60e89a4ad1a\n",
        "def get_review(url):\n",
        "  chrome_options = webdriver.ChromeOptions()\n",
        "  chrome_options.add_argument('--headless')\n",
        "  chrome_options.add_argument('--no-sandbox')\n",
        "  chrome_options.add_argument('--disable-dev-shm-usage')\n",
        "  driver = webdriver.Chrome('chromedriver',chrome_options=chrome_options)\n",
        "  #Set the url link and load the webpage\n",
        "  driver.get(url)\n",
        "\n",
        "  page = 0\n",
        "  #We want at least 1000 review, so get 50 at a safe number\n",
        "  driver.implicitly_wait(1) \n",
        "  while page<5:\n",
        "    try:\n",
        "        #find the load more button on the webpage\n",
        "        load_more = driver.find_element(by=By.ID,value='load-more-trigger')\n",
        "        #click on that button\n",
        "        load_more.click()\n",
        "        page+=1\n",
        "    except:\n",
        "        #If couldn't find any more button to click, stop\n",
        "        #print('broke')\n",
        "        break\n",
        "   \n",
        "  #review = driver.find_element_by_class_name('review-container')\n",
        "  review = driver.find_elements_by_class_name('review-container')\n",
        "  #Set list for each element:\n",
        "  title = []\n",
        "  content = []\n",
        "  rating = []\n",
        "  date = []\n",
        "  user_name = []\n",
        "  #run for loop to get \n",
        "  for n in range(0,200):\n",
        "      try:\n",
        "          #Some reviewers only give review text or rating without the other, \n",
        "          #so we use try/except here to make sure each block of content must has all the element before append them to the list\n",
        "\n",
        "          #Check if each review has all the elements\n",
        "          ftitle = review[n].find_element_by_class_name('title').text\n",
        "          #For the review content, some of them are hidden as spoiler, \n",
        "          #so we use the attribute 'textContent' here after extracting the 'content' tag\n",
        "          fcontent = review[n].find_element_by_class_name('content').get_attribute(\"textContent\").strip()\n",
        "          frating = review[n].find_element_by_class_name('rating-other-user-rating').text\n",
        "          fdate = review[n].find_element_by_class_name('review-date').text\n",
        "          fname = review[n].find_element_by_class_name('display-name-link').text\n",
        "\n",
        "\n",
        "          #Then add them to the respective list\n",
        "          title.append(ftitle)\n",
        "          content.append(fcontent)\n",
        "          rating.append(frating)\n",
        "          date.append(fdate)\n",
        "          user_name.append(fname)\n",
        "      except:\n",
        "          continue\n",
        "    #Build data dictionary for dataframe\n",
        "  data = {'User_name': user_name, \n",
        "      'Review title': title, \n",
        "      'Review Rating': rating,\n",
        "      'Review date' : date,\n",
        "      'Review_body' : content\n",
        "      }\n",
        "  #Build dataframe for each movie to export\n",
        "  review = pd.DataFrame(data = data)\n",
        "  driver.quit()\n",
        "  return data"
      ]
    },
    {
      "cell_type": "markdown",
      "source": [
        "#Project Report 3\n",
        "We were able to finish the web scraping for one movie and add the review and rating to a list. We will create training data with adding more movies to this list."
      ],
      "metadata": {
        "id": "yMcsluS9prEv"
      }
    },
    {
      "cell_type": "code",
      "execution_count": null,
      "metadata": {
        "colab": {
          "base_uri": "https://localhost:8080/"
        },
        "id": "23W5F1EuUP_k",
        "outputId": "a6540c97-1495-4cab-e421-d4b938a8d980"
      },
      "outputs": [
        {
          "output_type": "stream",
          "name": "stderr",
          "text": [
            "/usr/local/lib/python3.7/dist-packages/ipykernel_launcher.py:6: DeprecationWarning: use options instead of chrome_options\n",
            "  \n",
            "/usr/local/lib/python3.7/dist-packages/ipykernel_launcher.py:27: DeprecationWarning: find_elements_by_class_name is deprecated. Please use find_elements(by=By.CLASS_NAME, value=name) instead\n",
            "/usr/local/lib/python3.7/dist-packages/ipykernel_launcher.py:41: DeprecationWarning: find_element_by_class_name is deprecated. Please use find_element(by=By.CLASS_NAME, value=name) instead\n",
            "/usr/local/lib/python3.7/dist-packages/ipykernel_launcher.py:44: DeprecationWarning: find_element_by_class_name is deprecated. Please use find_element(by=By.CLASS_NAME, value=name) instead\n",
            "/usr/local/lib/python3.7/dist-packages/ipykernel_launcher.py:45: DeprecationWarning: find_element_by_class_name is deprecated. Please use find_element(by=By.CLASS_NAME, value=name) instead\n",
            "/usr/local/lib/python3.7/dist-packages/ipykernel_launcher.py:46: DeprecationWarning: find_element_by_class_name is deprecated. Please use find_element(by=By.CLASS_NAME, value=name) instead\n",
            "/usr/local/lib/python3.7/dist-packages/ipykernel_launcher.py:47: DeprecationWarning: find_element_by_class_name is deprecated. Please use find_element(by=By.CLASS_NAME, value=name) instead\n",
            "/usr/local/lib/python3.7/dist-packages/ipykernel_launcher.py:6: DeprecationWarning: use options instead of chrome_options\n",
            "  \n",
            "/usr/local/lib/python3.7/dist-packages/ipykernel_launcher.py:27: DeprecationWarning: find_elements_by_class_name is deprecated. Please use find_elements(by=By.CLASS_NAME, value=name) instead\n",
            "/usr/local/lib/python3.7/dist-packages/ipykernel_launcher.py:41: DeprecationWarning: find_element_by_class_name is deprecated. Please use find_element(by=By.CLASS_NAME, value=name) instead\n",
            "/usr/local/lib/python3.7/dist-packages/ipykernel_launcher.py:44: DeprecationWarning: find_element_by_class_name is deprecated. Please use find_element(by=By.CLASS_NAME, value=name) instead\n",
            "/usr/local/lib/python3.7/dist-packages/ipykernel_launcher.py:45: DeprecationWarning: find_element_by_class_name is deprecated. Please use find_element(by=By.CLASS_NAME, value=name) instead\n",
            "/usr/local/lib/python3.7/dist-packages/ipykernel_launcher.py:46: DeprecationWarning: find_element_by_class_name is deprecated. Please use find_element(by=By.CLASS_NAME, value=name) instead\n",
            "/usr/local/lib/python3.7/dist-packages/ipykernel_launcher.py:47: DeprecationWarning: find_element_by_class_name is deprecated. Please use find_element(by=By.CLASS_NAME, value=name) instead\n",
            "/usr/local/lib/python3.7/dist-packages/ipykernel_launcher.py:6: DeprecationWarning: use options instead of chrome_options\n",
            "  \n",
            "/usr/local/lib/python3.7/dist-packages/ipykernel_launcher.py:27: DeprecationWarning: find_elements_by_class_name is deprecated. Please use find_elements(by=By.CLASS_NAME, value=name) instead\n",
            "/usr/local/lib/python3.7/dist-packages/ipykernel_launcher.py:41: DeprecationWarning: find_element_by_class_name is deprecated. Please use find_element(by=By.CLASS_NAME, value=name) instead\n",
            "/usr/local/lib/python3.7/dist-packages/ipykernel_launcher.py:44: DeprecationWarning: find_element_by_class_name is deprecated. Please use find_element(by=By.CLASS_NAME, value=name) instead\n",
            "/usr/local/lib/python3.7/dist-packages/ipykernel_launcher.py:45: DeprecationWarning: find_element_by_class_name is deprecated. Please use find_element(by=By.CLASS_NAME, value=name) instead\n",
            "/usr/local/lib/python3.7/dist-packages/ipykernel_launcher.py:46: DeprecationWarning: find_element_by_class_name is deprecated. Please use find_element(by=By.CLASS_NAME, value=name) instead\n",
            "/usr/local/lib/python3.7/dist-packages/ipykernel_launcher.py:47: DeprecationWarning: find_element_by_class_name is deprecated. Please use find_element(by=By.CLASS_NAME, value=name) instead\n",
            "/usr/local/lib/python3.7/dist-packages/ipykernel_launcher.py:6: DeprecationWarning: use options instead of chrome_options\n",
            "  \n",
            "/usr/local/lib/python3.7/dist-packages/ipykernel_launcher.py:27: DeprecationWarning: find_elements_by_class_name is deprecated. Please use find_elements(by=By.CLASS_NAME, value=name) instead\n",
            "/usr/local/lib/python3.7/dist-packages/ipykernel_launcher.py:41: DeprecationWarning: find_element_by_class_name is deprecated. Please use find_element(by=By.CLASS_NAME, value=name) instead\n",
            "/usr/local/lib/python3.7/dist-packages/ipykernel_launcher.py:44: DeprecationWarning: find_element_by_class_name is deprecated. Please use find_element(by=By.CLASS_NAME, value=name) instead\n",
            "/usr/local/lib/python3.7/dist-packages/ipykernel_launcher.py:45: DeprecationWarning: find_element_by_class_name is deprecated. Please use find_element(by=By.CLASS_NAME, value=name) instead\n",
            "/usr/local/lib/python3.7/dist-packages/ipykernel_launcher.py:46: DeprecationWarning: find_element_by_class_name is deprecated. Please use find_element(by=By.CLASS_NAME, value=name) instead\n",
            "/usr/local/lib/python3.7/dist-packages/ipykernel_launcher.py:47: DeprecationWarning: find_element_by_class_name is deprecated. Please use find_element(by=By.CLASS_NAME, value=name) instead\n",
            "/usr/local/lib/python3.7/dist-packages/ipykernel_launcher.py:6: DeprecationWarning: use options instead of chrome_options\n",
            "  \n",
            "/usr/local/lib/python3.7/dist-packages/ipykernel_launcher.py:27: DeprecationWarning: find_elements_by_class_name is deprecated. Please use find_elements(by=By.CLASS_NAME, value=name) instead\n",
            "/usr/local/lib/python3.7/dist-packages/ipykernel_launcher.py:41: DeprecationWarning: find_element_by_class_name is deprecated. Please use find_element(by=By.CLASS_NAME, value=name) instead\n",
            "/usr/local/lib/python3.7/dist-packages/ipykernel_launcher.py:44: DeprecationWarning: find_element_by_class_name is deprecated. Please use find_element(by=By.CLASS_NAME, value=name) instead\n",
            "/usr/local/lib/python3.7/dist-packages/ipykernel_launcher.py:45: DeprecationWarning: find_element_by_class_name is deprecated. Please use find_element(by=By.CLASS_NAME, value=name) instead\n",
            "/usr/local/lib/python3.7/dist-packages/ipykernel_launcher.py:46: DeprecationWarning: find_element_by_class_name is deprecated. Please use find_element(by=By.CLASS_NAME, value=name) instead\n",
            "/usr/local/lib/python3.7/dist-packages/ipykernel_launcher.py:47: DeprecationWarning: find_element_by_class_name is deprecated. Please use find_element(by=By.CLASS_NAME, value=name) instead\n",
            "/usr/local/lib/python3.7/dist-packages/ipykernel_launcher.py:6: DeprecationWarning: use options instead of chrome_options\n",
            "  \n",
            "/usr/local/lib/python3.7/dist-packages/ipykernel_launcher.py:27: DeprecationWarning: find_elements_by_class_name is deprecated. Please use find_elements(by=By.CLASS_NAME, value=name) instead\n",
            "/usr/local/lib/python3.7/dist-packages/ipykernel_launcher.py:41: DeprecationWarning: find_element_by_class_name is deprecated. Please use find_element(by=By.CLASS_NAME, value=name) instead\n",
            "/usr/local/lib/python3.7/dist-packages/ipykernel_launcher.py:44: DeprecationWarning: find_element_by_class_name is deprecated. Please use find_element(by=By.CLASS_NAME, value=name) instead\n",
            "/usr/local/lib/python3.7/dist-packages/ipykernel_launcher.py:45: DeprecationWarning: find_element_by_class_name is deprecated. Please use find_element(by=By.CLASS_NAME, value=name) instead\n",
            "/usr/local/lib/python3.7/dist-packages/ipykernel_launcher.py:46: DeprecationWarning: find_element_by_class_name is deprecated. Please use find_element(by=By.CLASS_NAME, value=name) instead\n",
            "/usr/local/lib/python3.7/dist-packages/ipykernel_launcher.py:47: DeprecationWarning: find_element_by_class_name is deprecated. Please use find_element(by=By.CLASS_NAME, value=name) instead\n",
            "/usr/local/lib/python3.7/dist-packages/ipykernel_launcher.py:6: DeprecationWarning: use options instead of chrome_options\n",
            "  \n",
            "/usr/local/lib/python3.7/dist-packages/ipykernel_launcher.py:27: DeprecationWarning: find_elements_by_class_name is deprecated. Please use find_elements(by=By.CLASS_NAME, value=name) instead\n",
            "/usr/local/lib/python3.7/dist-packages/ipykernel_launcher.py:41: DeprecationWarning: find_element_by_class_name is deprecated. Please use find_element(by=By.CLASS_NAME, value=name) instead\n",
            "/usr/local/lib/python3.7/dist-packages/ipykernel_launcher.py:44: DeprecationWarning: find_element_by_class_name is deprecated. Please use find_element(by=By.CLASS_NAME, value=name) instead\n",
            "/usr/local/lib/python3.7/dist-packages/ipykernel_launcher.py:45: DeprecationWarning: find_element_by_class_name is deprecated. Please use find_element(by=By.CLASS_NAME, value=name) instead\n",
            "/usr/local/lib/python3.7/dist-packages/ipykernel_launcher.py:46: DeprecationWarning: find_element_by_class_name is deprecated. Please use find_element(by=By.CLASS_NAME, value=name) instead\n",
            "/usr/local/lib/python3.7/dist-packages/ipykernel_launcher.py:47: DeprecationWarning: find_element_by_class_name is deprecated. Please use find_element(by=By.CLASS_NAME, value=name) instead\n",
            "/usr/local/lib/python3.7/dist-packages/ipykernel_launcher.py:6: DeprecationWarning: use options instead of chrome_options\n",
            "  \n",
            "/usr/local/lib/python3.7/dist-packages/ipykernel_launcher.py:27: DeprecationWarning: find_elements_by_class_name is deprecated. Please use find_elements(by=By.CLASS_NAME, value=name) instead\n",
            "/usr/local/lib/python3.7/dist-packages/ipykernel_launcher.py:41: DeprecationWarning: find_element_by_class_name is deprecated. Please use find_element(by=By.CLASS_NAME, value=name) instead\n",
            "/usr/local/lib/python3.7/dist-packages/ipykernel_launcher.py:44: DeprecationWarning: find_element_by_class_name is deprecated. Please use find_element(by=By.CLASS_NAME, value=name) instead\n",
            "/usr/local/lib/python3.7/dist-packages/ipykernel_launcher.py:45: DeprecationWarning: find_element_by_class_name is deprecated. Please use find_element(by=By.CLASS_NAME, value=name) instead\n",
            "/usr/local/lib/python3.7/dist-packages/ipykernel_launcher.py:46: DeprecationWarning: find_element_by_class_name is deprecated. Please use find_element(by=By.CLASS_NAME, value=name) instead\n",
            "/usr/local/lib/python3.7/dist-packages/ipykernel_launcher.py:47: DeprecationWarning: find_element_by_class_name is deprecated. Please use find_element(by=By.CLASS_NAME, value=name) instead\n",
            "/usr/local/lib/python3.7/dist-packages/ipykernel_launcher.py:6: DeprecationWarning: use options instead of chrome_options\n",
            "  \n",
            "/usr/local/lib/python3.7/dist-packages/ipykernel_launcher.py:27: DeprecationWarning: find_elements_by_class_name is deprecated. Please use find_elements(by=By.CLASS_NAME, value=name) instead\n",
            "/usr/local/lib/python3.7/dist-packages/ipykernel_launcher.py:41: DeprecationWarning: find_element_by_class_name is deprecated. Please use find_element(by=By.CLASS_NAME, value=name) instead\n",
            "/usr/local/lib/python3.7/dist-packages/ipykernel_launcher.py:44: DeprecationWarning: find_element_by_class_name is deprecated. Please use find_element(by=By.CLASS_NAME, value=name) instead\n",
            "/usr/local/lib/python3.7/dist-packages/ipykernel_launcher.py:45: DeprecationWarning: find_element_by_class_name is deprecated. Please use find_element(by=By.CLASS_NAME, value=name) instead\n",
            "/usr/local/lib/python3.7/dist-packages/ipykernel_launcher.py:46: DeprecationWarning: find_element_by_class_name is deprecated. Please use find_element(by=By.CLASS_NAME, value=name) instead\n",
            "/usr/local/lib/python3.7/dist-packages/ipykernel_launcher.py:47: DeprecationWarning: find_element_by_class_name is deprecated. Please use find_element(by=By.CLASS_NAME, value=name) instead\n",
            "/usr/local/lib/python3.7/dist-packages/ipykernel_launcher.py:6: DeprecationWarning: use options instead of chrome_options\n",
            "  \n",
            "/usr/local/lib/python3.7/dist-packages/ipykernel_launcher.py:27: DeprecationWarning: find_elements_by_class_name is deprecated. Please use find_elements(by=By.CLASS_NAME, value=name) instead\n",
            "/usr/local/lib/python3.7/dist-packages/ipykernel_launcher.py:41: DeprecationWarning: find_element_by_class_name is deprecated. Please use find_element(by=By.CLASS_NAME, value=name) instead\n",
            "/usr/local/lib/python3.7/dist-packages/ipykernel_launcher.py:44: DeprecationWarning: find_element_by_class_name is deprecated. Please use find_element(by=By.CLASS_NAME, value=name) instead\n",
            "/usr/local/lib/python3.7/dist-packages/ipykernel_launcher.py:45: DeprecationWarning: find_element_by_class_name is deprecated. Please use find_element(by=By.CLASS_NAME, value=name) instead\n",
            "/usr/local/lib/python3.7/dist-packages/ipykernel_launcher.py:46: DeprecationWarning: find_element_by_class_name is deprecated. Please use find_element(by=By.CLASS_NAME, value=name) instead\n",
            "/usr/local/lib/python3.7/dist-packages/ipykernel_launcher.py:47: DeprecationWarning: find_element_by_class_name is deprecated. Please use find_element(by=By.CLASS_NAME, value=name) instead\n"
          ]
        }
      ],
      "source": [
        "movie_links = ['https://www.imdb.com/title/tt1877830/reviews?ref_=tt_ql_3','https://www.imdb.com/title/tt0133093/reviews?ref_=tt_ql_3','https://www.imdb.com/title/tt10872600/reviews?ref_=tt_ql_3','https://www.imdb.com/title/tt1160419/reviews?ref_=tt_ql_3','https://www.imdb.com/title/tt7286456/reviews?ref_=tt_ql_3','https://www.imdb.com/title/tt1375666/reviews?ref_=tt_ql_3','https://www.imdb.com/title/tt0816692/reviews?ref_=tt_ql_3','https://www.imdb.com/title/tt0468569/reviews?ref_=tt_ql_3','https://www.imdb.com/title/tt0068646/reviews?ref_=tt_ql_3','https://www.imdb.com/title/tt0111161/reviews?ref_=tt_ql_3']\n",
        "rev_rating = []\n",
        "for link in movie_links:\n",
        "  review_data = get_review(link)\n",
        "  contents = review_data['Review_body']\n",
        "  ratings = review_data['Review Rating']\n",
        "  titles = review_data['Review title']\n",
        "\n",
        "  for i in range(len(contents)):\n",
        "    # print(ratings[i]\n",
        "    movie_class = Movie_Review(contents[i])\n",
        "    score = movie_class.polarity_score()\n",
        "    title_class = Movie_Review(titles[i])\n",
        "    title_score = title_class.polarity_score()\n",
        "    # 10 stars = 1 stars\n",
        "    rat = ratings[i].split('/')[0]\n",
        "    rev_rating.append([score, int(rat),contents[i],titles[i],title_score])\n",
        "  \n",
        "# print(rev_rating)"
      ]
    },
    {
      "cell_type": "code",
      "execution_count": null,
      "metadata": {
        "colab": {
          "base_uri": "https://localhost:8080/"
        },
        "id": "PtnQXQUe1qKU",
        "outputId": "14db570b-4358-4792-b648-b7f977ea9802"
      },
      "outputs": [
        {
          "output_type": "stream",
          "name": "stdout",
          "text": [
            "1190\n"
          ]
        }
      ],
      "source": [
        "print(len(rev_rating))"
      ]
    },
    {
      "cell_type": "code",
      "execution_count": null,
      "metadata": {
        "colab": {
          "base_uri": "https://localhost:8080/"
        },
        "id": "X1SGALLK1yHv",
        "outputId": "d67710e6-6165-4b47-9074-4187f76ade9e"
      },
      "outputs": [
        {
          "output_type": "stream",
          "name": "stdout",
          "text": [
            "      polarity  rating                                           contents  \\\n",
            "1075  0.239524      10  I cannot think of a single negative of the God...   \n",
            "1076  0.151679      10  It could be said that the film-adaptation of M...   \n",
            "1077  0.346759      10  The Puzo novel is brought to the screen in the...   \n",
            "1078  0.189035       7  So, the best movie ever? No. Not in my opinion...   \n",
            "1079  0.308076      10  Why do I want to write the 234th comment on Th...   \n",
            "...        ...     ...                                                ...   \n",
            "1185  0.070121       3  Watching this film made me think about the gen...   \n",
            "1186  0.207460      10  What can I say about this movie that hasn't al...   \n",
            "1187  0.460000      10  One of the best movies ever made. Simple as th...   \n",
            "1188  0.261397      10  A film about a Stephen King story? Directed by...   \n",
            "1189  0.226923      10  The Shawshank Redemption is a well made, engag...   \n",
            "\n",
            "                                                  title  title score  \\\n",
            "1075                    History is made with this movie     0.000000   \n",
            "1076                                     Hard to refuse    -0.291667   \n",
            "1077                                          Mafia 101     0.000000   \n",
            "1078         Not the masterpiece people claim it to be.     0.000000   \n",
            "1079           Tied for the best movie I have ever seen     1.000000   \n",
            "...                                                 ...          ...   \n",
            "1185  Entertaining but still very much a piece of fi...     0.380000   \n",
            "1186               Shawshank Redemption Comes Out Clean     0.366667   \n",
            "1187                                   Simply Wonderful     1.000000   \n",
            "1188                            NOT just a prison movie     0.000000   \n",
            "1189  You don't understand! I'm not supposed to be h...     0.000000   \n",
            "\n",
            "      adj score  \n",
            "1075   0.239524  \n",
            "1076  -0.069994  \n",
            "1077   0.346759  \n",
            "1078   0.189035  \n",
            "1079   0.654038  \n",
            "...         ...  \n",
            "1185   0.225061  \n",
            "1186   0.287063  \n",
            "1187   0.730000  \n",
            "1188   0.261397  \n",
            "1189   0.226923  \n",
            "\n",
            "[115 rows x 6 columns]\n"
          ]
        }
      ],
      "source": [
        "df = pd.DataFrame(rev_rating,columns=['polarity','rating','contents','title','title score'])\n",
        "\n",
        "adj_scores = []\n",
        "\n",
        "for i in range(len(df['rating'])):\n",
        "  if df['title score'][i] != 0.0:\n",
        "    adj_score = (df['polarity'][i] + df['title score'][i]) / 2.0\n",
        "  else:\n",
        "    adj_score = df['polarity'][i]\n",
        "  adj_scores.append(adj_score)\n",
        "\n",
        "df['adj score'] = adj_scores\n",
        "\n",
        "print(df[1075:])\n",
        "#1078"
      ]
    },
    {
      "cell_type": "code",
      "execution_count": null,
      "metadata": {
        "colab": {
          "base_uri": "https://localhost:8080/",
          "height": 312
        },
        "id": "6RyBzCTi94tM",
        "outputId": "ae534caa-59f6-40b7-89e8-3c224496a91a"
      },
      "outputs": [
        {
          "output_type": "execute_result",
          "data": {
            "text/plain": [
              "112"
            ]
          },
          "metadata": {},
          "execution_count": 163
        },
        {
          "output_type": "display_data",
          "data": {
            "text/plain": [
              "<Figure size 432x288 with 1 Axes>"
            ],
            "image/png": "[encoded data removed]"
          },
          "metadata": {
            "needs_background": "light"
          }
        }
      ],
      "source": [
        "from sklearn.model_selection import train_test_split\n",
        "from sklearn.linear_model import LinearRegression\n",
        "import numpy as np\n",
        "import matplotlib.pyplot as plt\n",
        "from sklearn.metrics import mean_absolute_error\n",
        "\n",
        "X = df['adj score'].to_numpy()\n",
        "Y = df['rating'].to_numpy()\n",
        "\n",
        "\n",
        "X = X.reshape((-1,1))\n",
        "Y = Y.reshape((-1,1))\n",
        "\n",
        "Xtrain = X[:1077]\n",
        "Ytrain = Y[:1077]\n",
        "Xtest = X[1078:]\n",
        "Ytest = Y[1078:]\n",
        "\n",
        "model = LinearRegression(fit_intercept=True)\n",
        "model.fit(Xtrain,Ytrain)\n",
        "ypred = model.predict(Xtest)\n",
        "\n",
        "plt.scatter(Xtrain,Ytrain,alpha=.3,s=10,color='green')\n",
        "plt.xlabel(\"Polarity Score\")\n",
        "plt.ylabel(\"Rating\")\n",
        "plt.title('Training Data')\n",
        "plt.plot(Xtest,ypred,'r')\n",
        "len(Xtest)"
      ]
    },
    {
      "cell_type": "code",
      "execution_count": null,
      "metadata": {
        "id": "rAkdz6CEASJL"
      },
      "outputs": [],
      "source": []
    },
    {
      "cell_type": "code",
      "execution_count": null,
      "metadata": {
        "colab": {
          "base_uri": "https://localhost:8080/",
          "height": 330
        },
        "id": "CIAGThi9EdLW",
        "outputId": "572b8e5a-42a3-4bb8-f5eb-454451d614f1"
      },
      "outputs": [
        {
          "output_type": "stream",
          "name": "stdout",
          "text": [
            "1.7246499819024257\n"
          ]
        },
        {
          "output_type": "execute_result",
          "data": {
            "text/plain": [
              "112"
            ]
          },
          "metadata": {},
          "execution_count": 164
        },
        {
          "output_type": "display_data",
          "data": {
            "text/plain": [
              "<Figure size 432x288 with 1 Axes>"
            ],
            "image/png": "[encoded data removed]"
          },
          "metadata": {
            "needs_background": "light"
          }
        }
      ],
      "source": [
        "X = df['adj score'].to_numpy()\n",
        "Y = df['rating'].to_numpy()\n",
        "\n",
        "\n",
        "X = X.reshape((-1,1))\n",
        "Y = Y.reshape((-1,1))\n",
        "\n",
        "Xtrain = X[:1077]\n",
        "Ytrain = Y[:1077]\n",
        "Xtest = X[1078:]\n",
        "Ytest = Y[1078:]\n",
        "\n",
        "model = LinearRegression(fit_intercept=True)\n",
        "model.fit(Xtrain,Ytrain)\n",
        "\n",
        "xfit = np.arange(X.min(),X.max(),.1)\n",
        "\n",
        "xfit = xfit.reshape((-1,1))\n",
        "yfit = model.predict(Xtest)\n",
        "\n",
        "print(mean_absolute_error(yfit,Ytest))\n",
        "\n",
        "plt.scatter(Xtest,Ytest,alpha=.5)\n",
        "plt.xlabel(\"Polarity Score\")\n",
        "plt.ylabel(\"Rating\")\n",
        "plt.title('Test Data')\n",
        "plt.plot(Xtest,yfit,'r')\n",
        "len(Xtest)"
      ]
    },
    {
      "cell_type": "code",
      "execution_count": null,
      "metadata": {
        "id": "JHQ9p6WVt1r1",
        "colab": {
          "base_uri": "https://localhost:8080/"
        },
        "outputId": "37234ecf-8271-4494-e80e-4d5307863eb9"
      },
      "outputs": [
        {
          "output_type": "stream",
          "name": "stderr",
          "text": [
            "/usr/local/lib/python3.7/dist-packages/sklearn/neural_network/_multilayer_perceptron.py:1599: DataConversionWarning: A column-vector y was passed when a 1d array was expected. Please change the shape of y to (n_samples, ), for example using ravel().\n",
            "  y = column_or_1d(y, warn=True)\n"
          ]
        },
        {
          "output_type": "stream",
          "name": "stdout",
          "text": [
            "MLP:  1.4267106264959881\n",
            "KNN:  1.4999467770928423\n"
          ]
        }
      ],
      "source": [
        "from sklearn import neighbors\n",
        "from sklearn.neural_network import MLPRegressor\n",
        "\n",
        "regr = MLPRegressor(random_state=1, hidden_layer_sizes = (100,100), max_iter=1000,solver='adam')\n",
        "regr.fit(Xtrain, Ytrain)\n",
        "ypred = regr.predict(Xtest)\n",
        "\n",
        "print('MLP: ',mean_absolute_error(ypred,Ytest))\n",
        "\n",
        "regr = neighbors.KNeighborsRegressor(50, weights='distance')\n",
        "regr.fit(Xtrain, Ytrain)\n",
        "ypred = regr.predict(Xtest)\n",
        "\n",
        "print('KNN: ', mean_absolute_error(ypred,Ytest))\n"
      ]
    },
    {
      "cell_type": "markdown",
      "source": [
        "# Self Evalulation\n",
        "\n",
        "Overall, our project wound up meeting all of the expectations we created in the beginning. We were able to use web scraping to gather a large dataset of reviews and ratings. We performed sentiment analysis on the text of each review and were able to create a model predicting the rating. \n",
        "\n",
        "Areas for improvement could be the sentiment analysis part of the project. The sentiment analysis was not always very accurate especially because it is only analyzing the sentiment of one word at a time, not what the words mean together. We could also improve our model to make better estimations of the rating."
      ],
      "metadata": {
        "id": "jn0gY9zunNRh"
      }
    }
  ],
  "metadata": {
    "accelerator": "GPU",
    "colab": {
      "collapsed_sections": [],
      "provenance": [],
      "include_colab_link": true
    },
    "kernelspec": {
      "display_name": "Python 3",
      "name": "python3"
    },
    "language_info": {
      "name": "python"
    }
  },
  "nbformat": 4,
  "nbformat_minor": 0
}